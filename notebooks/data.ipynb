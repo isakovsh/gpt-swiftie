{
 "cells": [
  {
   "cell_type": "code",
   "execution_count": 1,
   "id": "7f47d51b",
   "metadata": {},
   "outputs": [
    {
     "name": "stdout",
     "output_type": "stream",
     "text": [
      "Hello world\n"
     ]
    }
   ],
   "source": [
    "print(\"Hello world\")"
   ]
  },
  {
   "cell_type": "code",
   "execution_count": 2,
   "id": "ab04f909",
   "metadata": {},
   "outputs": [
    {
     "name": "stdout",
     "output_type": "stream",
     "text": [
      "Total words (tokens): 21454\n",
      "Unique words (vocab size): 3501\n"
     ]
    }
   ],
   "source": [
    "# Let's say all your lyrics are stored in one big string called `all_lyrics`\n",
    "with open(\"taylor_swift.txt\", \"r\") as f:\n",
    "    all_lyrics = f.read()\n",
    "\n",
    "# Split into words\n",
    "words = all_lyrics.split()\n",
    "\n",
    "# Total number of words (tokens)\n",
    "total_words = len(words)\n",
    "\n",
    "# Unique words (vocabulary size)\n",
    "unique_words = len(set(words))\n",
    "\n",
    "print(f\"Total words (tokens): {total_words}\")\n",
    "print(f\"Unique words (vocab size): {unique_words}\")\n"
   ]
  },
  {
   "cell_type": "code",
   "execution_count": 3,
   "id": "40a22ee4",
   "metadata": {},
   "outputs": [
    {
     "data": {
      "image/png": "[encoded data removed]",
      "text/plain": [
       "<Figure size 1200x500 with 1 Axes>"
      ]
     },
     "metadata": {},
     "output_type": "display_data"
    }
   ],
   "source": [
    "from collections import Counter\n",
    "import matplotlib.pyplot as plt\n",
    "\n",
    "counter = Counter(words)\n",
    "common = counter.most_common(30)\n",
    "labels, freqs = zip(*common)\n",
    "\n",
    "plt.figure(figsize=(12, 5))\n",
    "plt.bar(labels, freqs)\n",
    "plt.xticks(rotation=45)\n",
    "plt.title(\"Top 30 Most Frequent Words\")\n",
    "plt.show()\n"
   ]
  },
  {
   "cell_type": "code",
   "execution_count": 4,
   "id": "7c933115",
   "metadata": {},
   "outputs": [],
   "source": [
    "import torch \n",
    "from torch import nn \n",
    "from torch.nn import functional as F \n",
    "from data import TaylorSwiftDataLoader \n",
    "\n",
    "\n",
    "class Config:\n",
    "    device = 'cuda' if torch.cuda.is_available() else 'cpu'\n",
    "    n_emb = 32\n",
    "    n_head = 8\n",
    "    head_size = n_emb // n_head\n",
    "    block_size = 8\n",
    "    dropout = 0.2\n",
    "\n",
    "config = Config()\n",
    "class Head(nn.Module):\n",
    "    def __init__(self):\n",
    "        super().__init__()\n",
    "        self.Q = nn.Linear(config.n_emb,config.head_size,bias=False,device=config.device) # 32 ,4 \n",
    "        self.K = nn.Linear(config.n_emb,config.head_size,bias=False,device=config.device)\n",
    "        self.V = nn.Linear(config.n_emb,config.head_size,bias=False,device=config.device)\n",
    "        self.register_buffer('tril',torch.tril(torch.ones(config.block_size,config.block_size))) \n",
    "        self.dropout = nn.Dropout(config.dropout)\n",
    "    \n",
    "    def forward(self,X):\n",
    "        B, T, C = X.shape\n",
    "    #   4, 8 , 32\n",
    "        Q = self.Q(X) \n",
    "        K = self.K(X)\n",
    "        # compute attention scores \n",
    "        wei = Q @ K.transpose(-2,-1) * C ** -0.5\n",
    "        wei = wei.masked_fill(self.tril[:T,:T] == 0, float('-inf'))\n",
    "        wei = torch.softmax(wei,dim=-1) \n",
    "        V = self.V(X)\n",
    "        out = wei @ V\n",
    "        print(f\"Q shape: {Q.shape}, K shape: {K.shape}, V shape: {V.shape}, wei shape: {wei.shape}\")\n",
    "        return out "
   ]
  },
  {
   "cell_type": "code",
   "execution_count": 7,
   "id": "715f7704",
   "metadata": {},
   "outputs": [
    {
     "name": "stdout",
     "output_type": "stream",
     "text": [
      "Data has 21366 words, 2427 unique.\n",
      "Vocab size: 2427\n",
      "Input: tensor([[1743, 2416, 1416,  992, 2086, 1038, 1746, 2091],\n",
      "        [1362, 1723,  471, 1464, 1961,  992,  299, 1233],\n",
      "        [2085, 1031, 1369, 1151, 2067, 1413, 1151,   10],\n",
      "        [ 533,  904, 1035, 1006, 1333, 2125,  823, 2366]])\n",
      "Target: tensor([[2416, 1416,  992, 2086, 1038, 1746, 2091,  706],\n",
      "        [1723,  471, 1464, 1961,  992,  299, 1233,   50],\n",
      "        [1031, 1369, 1151, 2067, 1413, 1151,   10, 1578],\n",
      "        [ 904, 1035, 1006, 1333, 2125,  823, 2366,  845]])\n"
     ]
    }
   ],
   "source": [
    "dataset = TaylorSwiftDataLoader(\"taylor_swift.txt\", block_size=8)\n",
    "print(\"Vocab size:\", dataset.get_vocab_size())\n",
    "\n",
    "# Optional: Use DataLoader\n",
    "from torch.utils.data import DataLoader\n",
    "\n",
    "loader = DataLoader(dataset, batch_size=4, shuffle=True)\n",
    "for xb, yb in loader:\n",
    "    print(\"Input:\", xb)\n",
    "    print(\"Target:\", yb)\n",
    "    break"
   ]
  },
  {
   "cell_type": "code",
   "execution_count": 3,
   "id": "794fba37",
   "metadata": {},
   "outputs": [
    {
     "data": {
      "text/plain": [
       "tensor([2133, 2308,    1, 1288, 2241, 2040, 2241,  767])"
      ]
     },
     "execution_count": 3,
     "metadata": {},
     "output_type": "execute_result"
    }
   ],
   "source": [
    "dataset.__getitem__(1)[0]"
   ]
  },
  {
   "cell_type": "code",
   "execution_count": 4,
   "id": "87145ecf",
   "metadata": {},
   "outputs": [],
   "source": [
    "embedding = nn.Embedding(dataset.vocab_size,config.n_emb)\n",
    "head = Head()"
   ]
  },
  {
   "cell_type": "code",
   "execution_count": 5,
   "id": "4324076e",
   "metadata": {},
   "outputs": [],
   "source": [
    "xb = embedding(xb)"
   ]
  },
  {
   "cell_type": "code",
   "execution_count": 6,
   "id": "e65dad6f",
   "metadata": {},
   "outputs": [
    {
     "data": {
      "text/plain": [
       "torch.Size([4, 8, 32])"
      ]
     },
     "execution_count": 6,
     "metadata": {},
     "output_type": "execute_result"
    }
   ],
   "source": [
    "xb.shape"
   ]
  },
  {
   "cell_type": "code",
   "execution_count": 7,
   "id": "044d5fa3",
   "metadata": {},
   "outputs": [
    {
     "name": "stdout",
     "output_type": "stream",
     "text": [
      "Q shape: torch.Size([4, 8, 4]), K shape: torch.Size([4, 8, 4]), V shape: torch.Size([4, 8, 4]), wei shape: torch.Size([4, 8, 8])\n"
     ]
    }
   ],
   "source": [
    "output = head(xb)"
   ]
  },
  {
   "cell_type": "code",
   "execution_count": 8,
   "id": "21c9079f",
   "metadata": {},
   "outputs": [
    {
     "data": {
      "text/plain": [
       "torch.Size([4, 8, 4])"
      ]
     },
     "execution_count": 8,
     "metadata": {},
     "output_type": "execute_result"
    }
   ],
   "source": [
    "output.shape"
   ]
  },
  {
   "cell_type": "code",
   "execution_count": null,
   "id": "4c09bb96",
   "metadata": {},
   "outputs": [],
   "source": []
  },
  {
   "cell_type": "code",
   "execution_count": 9,
   "id": "36d4ac50",
   "metadata": {},
   "outputs": [],
   "source": [
    "X = []\n",
    "Y = []\n",
    "\n",
    "for i in range(len(dataset)):\n",
    "    x, y = dataset[i]\n",
    "    X.append(x)\n",
    "    Y.append(y)\n",
    "\n",
    "X = torch.stack(X)  # Shape: (N, block_size)\n",
    "Y = torch.stack(Y)  # Shape: (N, block_size)\n",
    "\n",
    "X = X.to(config.device)\n",
    "Y = Y.to(config.device)"
   ]
  },
  {
   "cell_type": "code",
   "execution_count": 10,
   "id": "e2b7954b",
   "metadata": {},
   "outputs": [
    {
     "data": {
      "text/plain": [
       "tensor([  50, 2133, 2308,    1, 1288, 2241, 2040, 2241])"
      ]
     },
     "execution_count": 10,
     "metadata": {},
     "output_type": "execute_result"
    }
   ],
   "source": [
    "X[0]"
   ]
  },
  {
   "cell_type": "code",
   "execution_count": 11,
   "id": "e3dfd9ec",
   "metadata": {},
   "outputs": [
    {
     "data": {
      "text/plain": [
       "tensor(10)"
      ]
     },
     "execution_count": 11,
     "metadata": {},
     "output_type": "execute_result"
    }
   ],
   "source": [
    "y[0]"
   ]
  },
  {
   "cell_type": "code",
   "execution_count": 12,
   "id": "ad3355ed",
   "metadata": {},
   "outputs": [],
   "source": [
    "encode = lambda s: [dataset.stoi[c] for c in s]              # encoder: take a string, output a list of integers\n",
    "decode = lambda l: ' '.join([dataset.itos[i] for i in l])     "
   ]
  },
  {
   "cell_type": "code",
   "execution_count": 13,
   "id": "4000ac70",
   "metadata": {},
   "outputs": [
    {
     "data": {
      "text/plain": [
       "'all too well 10 minute version taylors version'"
      ]
     },
     "execution_count": 13,
     "metadata": {},
     "output_type": "execute_result"
    }
   ],
   "source": [
    "decode([  50, 2133, 2308,    1, 1288, 2241, 2040, 2241])"
   ]
  },
  {
   "cell_type": "code",
   "execution_count": 14,
   "id": "5b0092ae",
   "metadata": {},
   "outputs": [],
   "source": [
    "x = dataset.get_batch('train')[0]\n",
    "y = dataset.get_batch('train')[1]"
   ]
  },
  {
   "cell_type": "code",
   "execution_count": 15,
   "id": "d07fd451",
   "metadata": {},
   "outputs": [
    {
     "data": {
      "text/plain": [
       "tensor([2311, 1767,  199,   68,  909,  982, 2067,  933])"
      ]
     },
     "execution_count": 15,
     "metadata": {},
     "output_type": "execute_result"
    }
   ],
   "source": [
    "dataset.get_batch('train')[0][1]"
   ]
  },
  {
   "cell_type": "code",
   "execution_count": 16,
   "id": "1491922e",
   "metadata": {},
   "outputs": [
    {
     "data": {
      "text/plain": [
       "tensor([2422, 1059,   10,  869, 1006,  734, 1870, 2416])"
      ]
     },
     "execution_count": 16,
     "metadata": {},
     "output_type": "execute_result"
    }
   ],
   "source": [
    "dataset.get_batch('train')[1][0]"
   ]
  },
  {
   "cell_type": "code",
   "execution_count": 18,
   "id": "5a3a27cc",
   "metadata": {},
   "outputs": [
    {
     "name": "stdout",
     "output_type": "stream",
     "text": [
      "['that', 'ill', 'sue', 'you', 'if', 'you', 'step', 'on']\n",
      "['im', 'begging', 'for', 'you', 'to', 'take', 'my', 'hand']\n"
     ]
    }
   ],
   "source": [
    "def decode(ids):\n",
    "    return [dataset.itos[i] for i in ids]\n",
    "\n",
    "print(decode(x[0].tolist()))\n",
    "print(decode(y[0].tolist()))"
   ]
  },
  {
   "cell_type": "code",
   "execution_count": 19,
   "id": "90a039ec",
   "metadata": {},
   "outputs": [
    {
     "data": {
      "text/plain": [
       "'more and i might be okay but im not fine at all oh oh oh chorus causе there we arе'"
      ]
     },
     "execution_count": 19,
     "metadata": {},
     "output_type": "execute_result"
    }
   ],
   "source": [
    "\" \".join(dataset.data[100:120])"
   ]
  },
  {
   "cell_type": "code",
   "execution_count": 2,
   "id": "ba4d0d62",
   "metadata": {},
   "outputs": [],
   "source": [
    "with open(\"taylor_swift.txt\", \"r\", encoding=\"utf-8\") as f:\n",
    "    data = f.read().lower()\n"
   ]
  },
  {
   "cell_type": "code",
   "execution_count": 20,
   "id": "28856b13",
   "metadata": {},
   "outputs": [],
   "source": [
    "import re\n",
    "data = re.sub(r'[^\\w\\s]', '', data)\n",
    "words = data.split() \n",
    "vocab = sorted(list(set(words)))\n",
    "vocab_size = len(vocab)\n",
    "word_to_idx = {ch: i for i, ch in enumerate(vocab)}\n",
    "idx_to_word = {i: ch for i, ch in enumerate(vocab)}\n",
    "\n",
    "encode = lambda s: [word_to_idx[c] for c in s]              # encoder: take a string, output a list of integers\n",
    "decode = lambda l: ''.join([idx_to_word[i] for i in l])"
   ]
  },
  {
   "cell_type": "code",
   "execution_count": 24,
   "id": "ab5c6ab2",
   "metadata": {},
   "outputs": [],
   "source": [
    "data = torch.tensor([word_to_idx[c] for c in words], dtype=torch.long) \n"
   ]
  },
  {
   "cell_type": "code",
   "execution_count": 27,
   "id": "ca86e75a",
   "metadata": {},
   "outputs": [],
   "source": [
    "device = 'cuda' if torch.cuda.is_available() else False"
   ]
  },
  {
   "cell_type": "code",
   "execution_count": 39,
   "id": "05dc5432",
   "metadata": {},
   "outputs": [],
   "source": [
    "# 1. Split data\n",
    "n = int(0.9 * len(data))\n",
    "train_data = data[:n]\n",
    "val_data = data[n:]\n",
    "\n",
    "# 2. Manual batch generator\n",
    "def get_batch(split,batch_size=32, block_size=32):\n",
    "    data_src = train_data if split == 'train' else val_data\n",
    "    ix = torch.randint(len(data_src) - block_size, (batch_size,))\n",
    "\n",
    "    x = torch.stack([data_src[i:i+block_size] for i in ix])\n",
    "    y = torch.stack([data_src[i+1:i+1+block_size] for i in ix])\n",
    "    print(x)\n",
    "    return x,y"
   ]
  },
  {
   "cell_type": "code",
   "execution_count": 40,
   "id": "b4b67b99",
   "metadata": {},
   "outputs": [
    {
     "name": "stdout",
     "output_type": "stream",
     "text": [
      "tensor([[2169, 2000, 1718,  ..., 2067, 1279, 1387],\n",
      "        [1177, 1176, 1176,  ...,  296,   68,  309],\n",
      "        [ 106, 2067, 1693,  ..., 2074,  264, 1440],\n",
      "        ...,\n",
      "        [1059, 1332,  365,  ..., 2287,  297,  124],\n",
      "        [  68, 2072, 2276,  ..., 2017, 1332,  886],\n",
      "        [2067, 1505,   68,  ...,  840,   10, 1177]])\n"
     ]
    }
   ],
   "source": [
    "x,y = get_batch('train')"
   ]
  },
  {
   "cell_type": "code",
   "execution_count": 42,
   "id": "06c537dc",
   "metadata": {},
   "outputs": [
    {
     "data": {
      "text/plain": [
       "tensor([2169, 2000, 1718,  972, 2416, 1090, 2317, 2416, 2270,   68,  236, 2416,\n",
       "         840,  936,  243, 1354,  775, 2105, 2416,   56, 1093,  121, 2240,    2,\n",
       "         992,  687, 1151, 1116, 1006, 2067, 1279, 1387])"
      ]
     },
     "execution_count": 42,
     "metadata": {},
     "output_type": "execute_result"
    }
   ],
   "source": [
    "x[0]"
   ]
  },
  {
   "cell_type": "code",
   "execution_count": 43,
   "id": "84b452c3",
   "metadata": {},
   "outputs": [
    {
     "data": {
      "text/plain": [
       "tensor([2000, 1718,  972, 2416, 1090, 2317, 2416, 2270,   68,  236, 2416,  840,\n",
       "         936,  243, 1354,  775, 2105, 2416,   56, 1093,  121, 2240,    2,  992,\n",
       "         687, 1151, 1116, 1006, 2067, 1279, 1387, 1524])"
      ]
     },
     "execution_count": 43,
     "metadata": {},
     "output_type": "execute_result"
    }
   ],
   "source": [
    "y[0]"
   ]
  },
  {
   "cell_type": "code",
   "execution_count": null,
   "id": "8b7c3cf5",
   "metadata": {},
   "outputs": [
    {
     "ename": "FileNotFoundError",
     "evalue": "[Errno 2] No such file or directory: 'taylor_swift.txt'",
     "output_type": "error",
     "traceback": [
      "\u001b[31m---------------------------------------------------------------------------\u001b[39m",
      "\u001b[31mFileNotFoundError\u001b[39m                         Traceback (most recent call last)",
      "\u001b[36mCell\u001b[39m\u001b[36m \u001b[39m\u001b[32mIn[3]\u001b[39m\u001b[32m, line 8\u001b[39m\n\u001b[32m      3\u001b[39m \u001b[38;5;28;01mfrom\u001b[39;00m\u001b[38;5;250m \u001b[39m\u001b[34;01mtorch\u001b[39;00m\u001b[34;01m.\u001b[39;00m\u001b[34;01mnn\u001b[39;00m\u001b[38;5;250m \u001b[39m\u001b[38;5;28;01mimport\u001b[39;00m functional \u001b[38;5;28;01mas\u001b[39;00m F \n\u001b[32m      6\u001b[39m \u001b[38;5;66;03m#------------------ Data loading --------------------------------- \u001b[39;00m\n\u001b[32m----> \u001b[39m\u001b[32m8\u001b[39m \u001b[38;5;28;01mwith\u001b[39;00m \u001b[38;5;28;43mopen\u001b[39;49m\u001b[43m(\u001b[49m\u001b[33;43m\"\u001b[39;49m\u001b[33;43mtaylor_swift.txt\u001b[39;49m\u001b[33;43m\"\u001b[39;49m\u001b[43m,\u001b[49m\u001b[43m \u001b[49m\u001b[33;43m\"\u001b[39;49m\u001b[33;43mr\u001b[39;49m\u001b[33;43m\"\u001b[39;49m\u001b[43m,\u001b[49m\u001b[43m \u001b[49m\u001b[43mencoding\u001b[49m\u001b[43m=\u001b[49m\u001b[33;43m\"\u001b[39;49m\u001b[33;43mutf-8\u001b[39;49m\u001b[33;43m\"\u001b[39;49m\u001b[43m)\u001b[49m \u001b[38;5;28;01mas\u001b[39;00m f:\n\u001b[32m      9\u001b[39m         data = f.read().lower()\n\u001b[32m     11\u001b[39m words = data.split() \n",
      "\u001b[36mFile \u001b[39m\u001b[32m~/miniconda3/lib/python3.13/site-packages/IPython/core/interactiveshell.py:343\u001b[39m, in \u001b[36m_modified_open\u001b[39m\u001b[34m(file, *args, **kwargs)\u001b[39m\n\u001b[32m    336\u001b[39m \u001b[38;5;28;01mif\u001b[39;00m file \u001b[38;5;129;01min\u001b[39;00m {\u001b[32m0\u001b[39m, \u001b[32m1\u001b[39m, \u001b[32m2\u001b[39m}:\n\u001b[32m    337\u001b[39m     \u001b[38;5;28;01mraise\u001b[39;00m \u001b[38;5;167;01mValueError\u001b[39;00m(\n\u001b[32m    338\u001b[39m         \u001b[33mf\u001b[39m\u001b[33m\"\u001b[39m\u001b[33mIPython won\u001b[39m\u001b[33m'\u001b[39m\u001b[33mt let you open fd=\u001b[39m\u001b[38;5;132;01m{\u001b[39;00mfile\u001b[38;5;132;01m}\u001b[39;00m\u001b[33m by default \u001b[39m\u001b[33m\"\u001b[39m\n\u001b[32m    339\u001b[39m         \u001b[33m\"\u001b[39m\u001b[33mas it is likely to crash IPython. If you know what you are doing, \u001b[39m\u001b[33m\"\u001b[39m\n\u001b[32m    340\u001b[39m         \u001b[33m\"\u001b[39m\u001b[33myou can use builtins\u001b[39m\u001b[33m'\u001b[39m\u001b[33m open.\u001b[39m\u001b[33m\"\u001b[39m\n\u001b[32m    341\u001b[39m     )\n\u001b[32m--> \u001b[39m\u001b[32m343\u001b[39m \u001b[38;5;28;01mreturn\u001b[39;00m \u001b[43mio_open\u001b[49m\u001b[43m(\u001b[49m\u001b[43mfile\u001b[49m\u001b[43m,\u001b[49m\u001b[43m \u001b[49m\u001b[43m*\u001b[49m\u001b[43margs\u001b[49m\u001b[43m,\u001b[49m\u001b[43m \u001b[49m\u001b[43m*\u001b[49m\u001b[43m*\u001b[49m\u001b[43mkwargs\u001b[49m\u001b[43m)\u001b[49m\n",
      "\u001b[31mFileNotFoundError\u001b[39m: [Errno 2] No such file or directory: 'taylor_swift.txt'"
     ]
    }
   ],
   "source": [
    "import torch \n",
    "from torch import nn \n",
    "from torch.nn import functional as F \n",
    "\n",
    "\n",
    "#------------------ Data loading --------------------------------- \n",
    "\n",
    "with open(\"taylor_swift.txt\", \"r\", encoding=\"utf-8\") as f:\n",
    "        data = f.read().lower()\n",
    "\n",
    "words = data.split() \n",
    "vocab = sorted(list(set(data)))\n",
    "vocab_size = len(vocab)\n",
    "word_to_idx = {ch: i for i, ch in enumerate(vocab)}\n",
    "idx_to_word = {i: ch for i, ch in enumerate(vocab)}\n",
    "\n",
    "encode = lambda s: [word_to_idx[c] for c in s]              # encoder: take a string, output a list of integers\n",
    "decode = lambda l: ''.join([idx_to_word[i] for i in l])     # decoder: take a list of integers, output a string\n",
    "\n",
    "# Convert the entire text into a list of indices\n",
    "data = torch.tensor([word_to_idx[c] for c in data], dtype=torch.long) \n",
    "\n",
    "\n",
    "# 1. Split data\n",
    "n = int(0.9 * len(data))\n",
    "train_data = data[:n]\n",
    "val_data = data[n:]\n",
    "\n",
    "# 2. Manual batch generator\n",
    "def get_batch(split,batch_size=32, block_size=32):\n",
    "    data_src = train_data if split == 'train' else val_data\n",
    "    ix = torch.randint(len(data_src) - block_size, (batch_size,))\n",
    "\n",
    "    X = torch.stack([data_src[i:i+block_size] for i in ix])\n",
    "    y = torch.stack([data_src[i+1:i+1+block_size] for i in ix])\n",
    "\n",
    "    return X,y\n",
    "\n",
    "# -------------------------------------------------------------------\n",
    "\n",
    "class Config:\n",
    "    device = 'cuda' if torch.cuda.is_available() else 'cpu'\n",
    "    n_emb = 32\n",
    "    n_heads = 8\n",
    "    head_size = n_emb // n_heads\n",
    "    block_size = 256\n",
    "    dropout = 0.2\n",
    "    batch_size = 32\n",
    "    lr = 1e-3\n",
    "\n",
    "config = Config()\n",
    "\n",
    "class Head(nn.Module):\n",
    "    def __init__(self,head_size):\n",
    "        super().__init__()\n",
    "        self.Q = nn.Linear(config.n_emb,head_size,bias=False,device=config.device) # (B,T,head_size)\n",
    "        self.K = nn.Linear(config.n_emb,head_size,bias=False,device=config.device) # (B,T,head_size)\n",
    "        self.V = nn.Linear(config.n_emb,head_size,bias=False,device=config.device) # (B,T,head_size)\n",
    "        self.register_buffer('tril',torch.tril(torch.ones(config.block_size,config.block_size))) # (B,T,T)\n",
    "        self.dropout = nn.Dropout(config.dropout)\n",
    "    \n",
    "    def forward(self,X):\n",
    "        B, T, C = X.shape\n",
    "        Q = self.Q(X)\n",
    "        K = self.K(X)\n",
    "        # compute attention scores \n",
    "        wei = Q @ K.transpose(-2,-1) * C ** -0.5 # (B,T,T) \n",
    "        wei = wei.masked_fill(self.tril[:T,:T] == 0, float('-inf')) # (B,T,T)\n",
    "        wei = torch.softmax(wei,dim=-1)  # (B,T,T)\n",
    "\n",
    "        V = self.V(X) # (B,T,C)\n",
    "        out = wei @ V # (B,T,T) @ (B,T,C) = (B,T,C)\n",
    "        return out \n",
    "\n",
    "\n",
    "class MinGPT(nn.Module):\n",
    "    def __init__(self):\n",
    "        super().__init__()\n",
    "\n",
    "        self.token_embedding_table = nn.Embedding(vocab_size,config.n_emb)\n",
    "        self.head = Head(config.n_emb)\n",
    "        self.lm_head = nn.Linear(config.n_emb,vocab_size) \n",
    "\n",
    "    def forward(self,X,targets=None):\n",
    "        token_emb = self.token_embedding_table(X)\n",
    "        print(\"Token embedding shape\", token_emb.shape)\n",
    "        print(X.shape)\n",
    "        X = self.head(token_emb) #  (B,T,C)\n",
    "        logits = self.lm_head(X)\n",
    "\n",
    "        if targets is None:\n",
    "            loss = None \n",
    "        \n",
    "        else: \n",
    "            B, T, C = logits.shape\n",
    "            print(logits.shape)\n",
    "            logits = logits.view(B*T,C)\n",
    "            targets = targets.view(B*T)\n",
    "            print(logits.shape)\n",
    "            print(targets.shape)\n",
    "            loss = F.cross_entropy(logits,targets)\n",
    "\n",
    "        return logits , loss\n",
    "    \n",
    "    def generate(self, idx, max_new_tokens):\n",
    "        \n",
    "        for _ in range(max_new_tokens):\n",
    "            idx_cond = idx[:, -config.block_size:]\n",
    "\n",
    "            logits, loss = self(idx_cond)\n",
    "            logits = logits[:, -1, :]  # [B, C]\n",
    "            probs = F.softmax(logits, dim=-1)\n",
    "            idx_next = torch.multinomial(probs,num_samples=1) # [B, 1]\n",
    "            idx = torch.cat((idx,idx_next),dim=1)\n",
    "        \n",
    "        return idx\n",
    "\n",
    "model = MinGPT()\n",
    " \n",
    "optimizer = torch.optim.Adam(model.parameters(),lr=config.lr)"
   ]
  },
  {
   "cell_type": "code",
   "execution_count": 24,
   "id": "41bd37f8",
   "metadata": {},
   "outputs": [],
   "source": [
    "Xb , yb = get_batch('train')"
   ]
  },
  {
   "cell_type": "code",
   "execution_count": 25,
   "id": "c7de9144",
   "metadata": {},
   "outputs": [
    {
     "name": "stdout",
     "output_type": "stream",
     "text": [
      "Token embedding shape torch.Size([32, 32, 32])\n",
      "torch.Size([32, 32])\n",
      "torch.Size([32, 32, 63])\n",
      "torch.Size([1024, 63])\n",
      "torch.Size([1024])\n"
     ]
    },
    {
     "data": {
      "text/plain": [
       "(tensor([[ 2.3538e-01,  1.6549e-01,  1.7738e-01,  ..., -3.5974e-01,\n",
       "          -4.7773e-05,  1.7951e-01],\n",
       "         [ 1.6780e-01,  1.5652e-01,  1.5632e-01,  ..., -2.4889e-01,\n",
       "           2.6462e-02,  2.1910e-01],\n",
       "         [ 6.3478e-02,  9.3530e-02,  9.2952e-02,  ..., -2.7172e-01,\n",
       "           8.4758e-02,  3.6139e-01],\n",
       "         ...,\n",
       "         [ 2.8028e-01,  1.6166e-01,  3.4716e-03,  ..., -2.6514e-01,\n",
       "          -2.0619e-02,  1.3139e-01],\n",
       "         [ 3.0659e-01,  1.5096e-01, -8.3329e-02,  ..., -2.1634e-01,\n",
       "           6.9096e-03,  1.1024e-01],\n",
       "         [ 2.5490e-01,  1.4774e-01, -2.2158e-02,  ..., -2.4918e-01,\n",
       "           2.9944e-03,  1.8019e-01]], grad_fn=<ViewBackward0>),\n",
       " tensor(4.1158, grad_fn=<NllLossBackward0>))"
      ]
     },
     "execution_count": 25,
     "metadata": {},
     "output_type": "execute_result"
    }
   ],
   "source": [
    "MinGPT().forward(Xb,yb)"
   ]
  },
  {
   "cell_type": "code",
   "execution_count": 22,
   "id": "97a3aa25",
   "metadata": {},
   "outputs": [
    {
     "data": {
      "text/plain": [
       "torch.Size([32, 32])"
      ]
     },
     "execution_count": 22,
     "metadata": {},
     "output_type": "execute_result"
    }
   ],
   "source": [
    "Xb.shape"
   ]
  },
  {
   "cell_type": "code",
   "execution_count": 26,
   "id": "378d0db6",
   "metadata": {},
   "outputs": [],
   "source": [
    "test_embedder = nn.Embedding(5, 3)"
   ]
  },
  {
   "cell_type": "code",
   "execution_count": 29,
   "id": "25c26d7a",
   "metadata": {},
   "outputs": [
    {
     "data": {
      "text/plain": [
       "tensor([[[-0.4077, -0.3327, -1.1974],\n",
       "         [ 0.8395, -0.6468,  0.2121]],\n",
       "\n",
       "        [[ 0.8395, -0.6468,  0.2121],\n",
       "         [-0.3389, -0.0081, -0.0601]]], grad_fn=<EmbeddingBackward0>)"
      ]
     },
     "execution_count": 29,
     "metadata": {},
     "output_type": "execute_result"
    }
   ],
   "source": [
    "X = torch.tensor([[1, 2], [2, 4]])  # shape [2, 2]\n",
    "test_embedder(X)\n"
   ]
  },
  {
   "cell_type": "code",
   "execution_count": 30,
   "id": "117d1a8a",
   "metadata": {},
   "outputs": [
    {
     "data": {
      "text/plain": [
       "torch.Size([32, 32])"
      ]
     },
     "execution_count": 30,
     "metadata": {},
     "output_type": "execute_result"
    }
   ],
   "source": [
    "yb.shape"
   ]
  },
  {
   "cell_type": "code",
   "execution_count": 7,
   "id": "928bae2f",
   "metadata": {},
   "outputs": [],
   "source": [
    "class Config:\n",
    "    device = 'cuda' if torch.cuda.is_available() else 'cpu'\n",
    "    n_emb = 32\n",
    "    n_heads = 8\n",
    "    head_size = n_emb // n_heads\n",
    "    block_size = 256\n",
    "    dropout = 0.2\n",
    "    batch_size = 32\n",
    "    lr = 1e-3\n",
    "\n",
    "config = Config()\n",
    "\n",
    "class Head(nn.Module):\n",
    "    def __init__(self,head_size):\n",
    "        super().__init__()\n",
    "        self.Q = nn.Linear(config.n_emb,head_size,bias=False,device=config.device) # (B,T,head_size)\n",
    "        self.K = nn.Linear(config.n_emb,head_size,bias=False,device=config.device) # (B,T,head_size)\n",
    "        self.V = nn.Linear(config.n_emb,head_size,bias=False,device=config.device) # (B,T,head_size)\n",
    "        self.register_buffer('tril',torch.tril(torch.ones(config.block_size,config.block_size))) # (B,T,T)\n",
    "        self.dropout = nn.Dropout(config.dropout)\n",
    "    \n",
    "    def forward(self,X):\n",
    "        B, T, C = X.shape\n",
    "        Q = self.Q(X)\n",
    "        K = self.K(X)\n",
    "        # compute attention scores \n",
    "        wei = Q @ K.transpose(-2,-1) * C ** -0.5 # (B,T,T) \n",
    "        wei = wei.masked_fill(self.tril[:T,:T] == 0, float('-inf')) # (B,T,T)\n",
    "        wei = torch.softmax(wei,dim=-1)  # (B,T,T)\n",
    "\n",
    "        V = self.V(X) # (B,T,C)\n",
    "        out = wei @ V # (B,T,T) @ (B,T,C) = (B,T,C)\n",
    "        return out \n",
    "\n",
    "vocab_size = 3500  # Example vocab size, adjust as needed\n",
    "\n",
    "class MinGPT(nn.Module):\n",
    "    def __init__(self):\n",
    "        super().__init__()\n",
    "\n",
    "        self.token_embedding_table = nn.Embedding(vocab_size,config.n_emb)\n",
    "        self.head = Head(config.n_emb)\n",
    "        self.lm_head = nn.Linear(config.n_emb,vocab_size) \n",
    "\n",
    "    def forward(self,X,targets=None):\n",
    "        token_emb = self.token_embedding_table(X)\n",
    "        print(\"Token embedding shape\", token_emb.shape)\n",
    "        print(X.shape)\n",
    "        X = self.head(token_emb) #  (B,T,C)\n",
    "        logits = self.lm_head(X)\n",
    "\n",
    "        if targets is None:\n",
    "            loss = None \n",
    "        \n",
    "        else: \n",
    "            B, T, C = logits.shape\n",
    "            print(logits.shape)\n",
    "            logits = logits.view(B*T,C)\n",
    "            targets = targets.view(B*T)\n",
    "            print(logits.shape)\n",
    "            print(targets.shape)\n",
    "            loss = F.cross_entropy(logits,targets)\n",
    "\n",
    "        return logits , loss\n",
    "    \n",
    "    def generate(self, idx, max_new_tokens):\n",
    "        \n",
    "        for _ in range(max_new_tokens):\n",
    "            idx_cond = idx[:, -config.block_size:]\n",
    "\n",
    "            logits, loss = self(idx_cond)\n",
    "            logits = logits[:, -1, :]  # [B, C]\n",
    "            probs = F.softmax(logits, dim=-1)\n",
    "            idx_next = torch.multinomial(probs,num_samples=1) # [B, 1]\n",
    "            idx = torch.cat((idx,idx_next),dim=1)\n",
    "        \n",
    "        return idx\n",
    "\n",
    "model = MinGPT()\n",
    " \n",
    "optimizer = torch.optim.Adam(model.parameters(),lr=config.lr)"
   ]
  },
  {
   "cell_type": "code",
   "execution_count": 11,
   "id": "fbdcf479",
   "metadata": {},
   "outputs": [
    {
     "data": {
      "text/plain": [
       "MinGPT(\n",
       "  (token_embedding_table): Embedding(3500, 32)\n",
       "  (head): Head(\n",
       "    (Q): Linear(in_features=32, out_features=32, bias=False)\n",
       "    (K): Linear(in_features=32, out_features=32, bias=False)\n",
       "    (V): Linear(in_features=32, out_features=32, bias=False)\n",
       "    (dropout): Dropout(p=0.2, inplace=False)\n",
       "  )\n",
       "  (lm_head): Linear(in_features=32, out_features=3500, bias=True)\n",
       ")"
      ]
     },
     "execution_count": 11,
     "metadata": {},
     "output_type": "execute_result"
    }
   ],
   "source": [
    "model"
   ]
  },
  {
   "cell_type": "code",
   "execution_count": null,
   "id": "e8a76a01",
   "metadata": {},
   "outputs": [],
   "source": []
  }
 ],
 "metadata": {
  "kernelspec": {
   "display_name": "base",
   "language": "python",
   "name": "python3"
  },
  "language_info": {
   "codemirror_mode": {
    "name": "ipython",
    "version": 3
   },
   "file_extension": ".py",
   "mimetype": "text/x-python",
   "name": "python",
   "nbconvert_exporter": "python",
   "pygments_lexer": "ipython3",
   "version": "3.13.5"
  }
 },
 "nbformat": 4,
 "nbformat_minor": 5
}
